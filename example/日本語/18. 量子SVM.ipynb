{
 "cells": [
  {
   "cell_type": "markdown",
   "metadata": {},
   "source": [
    "# 18: 量子サポートベクターマシン(SVM)"
   ]
  },
  {
   "cell_type": "markdown",
   "metadata": {},
   "source": [
    "この量子SVMの量子回路の構造は、[Vojtěch Havlíček, Antonio D. Córcoles, Kristan Temme et al (2019)](https://www.nature.com/articles/s41586-019-0980-2#Abs1)の論文を参考にしています。"
   ]
  },
  {
   "cell_type": "code",
   "execution_count": 1,
   "metadata": {},
   "outputs": [],
   "source": [
    "from renom_q import *\n",
    "from renom_q.ml.qsvm import QSVM\n",
    "import numpy as np"
   ]
  },
  {
   "cell_type": "markdown",
   "metadata": {},
   "source": [
    "イジングモデルによる断熱量子計算を利用して、サポートベクターマシン(SVM)のデータ分類を行う。"
   ]
  },
  {
   "cell_type": "markdown",
   "metadata": {},
   "source": [
    "- 量子サポートベクターマシンのコード  \n",
    " https://github.com/ReNom-dev-team/ReNomQ/blob/release/0.2/renom_q/ml/qsvm.py"
   ]
  },
  {
   "cell_type": "markdown",
   "metadata": {},
   "source": [
    "`QSVM.fit(train_data, train_label)`で識別器の学習。"
   ]
  },
  {
   "cell_type": "code",
   "execution_count": 2,
   "metadata": {
    "scrolled": true
   },
   "outputs": [],
   "source": [
    "train_xy = np.array([[5, 4], [6, 6], [4, 9], [8, 1], [9, 7], [1, 4], [4, 6]])\n",
    "train_label = np.array([1, 1, -1, -1, -1, -1, 1])\n",
    "\n",
    "qsvm = QSVM()\n",
    "qsvm.fit(train_xy, train_label)"
   ]
  },
  {
   "cell_type": "markdown",
   "metadata": {},
   "source": [
    "`QSVM.plot_graph(data, label)`で訓練データのグラフ描画。"
   ]
  },
  {
   "cell_type": "code",
   "execution_count": 3,
   "metadata": {},
   "outputs": [
    {
     "data": {
      "image/png": "[encoded data removed]",
      "text/plain": [
       "<Figure size 432x288 with 1 Axes>"
      ]
     },
     "metadata": {
      "needs_background": "light"
     },
     "output_type": "display_data"
    }
   ],
   "source": [
    "qsvm.plot_graph(train_xy, train_label)"
   ]
  },
  {
   "cell_type": "markdown",
   "metadata": {},
   "source": [
    "`QSVM.predict(test_data)`でテストデータのラベル推定。"
   ]
  },
  {
   "cell_type": "code",
   "execution_count": 4,
   "metadata": {},
   "outputs": [
    {
     "name": "stdout",
     "output_type": "stream",
     "text": [
      "[1, 1, 1, -1, -1, -1, -1, -1, 1, -1, -1, 1, 1, 1]\n"
     ]
    }
   ],
   "source": [
    "test = np.array([[3, 3], [7, 4], [4, 7], [5, 1], [2, 5], [3, 9],\n",
    "                 [6, 9], [8, 7], [3, 5], [2, 4], [9, 9], [4, 3], [6, 4], [4, 4]])\n",
    "label = qsvm.predict(test)\n",
    "print(label)"
   ]
  },
  {
   "cell_type": "markdown",
   "metadata": {},
   "source": [
    "`QSVM.plot_graph(train_data, train_label, test_data, test_label)`で訓練データとテストデータのグラフ描画。"
   ]
  },
  {
   "cell_type": "code",
   "execution_count": 5,
   "metadata": {
    "scrolled": true
   },
   "outputs": [
    {
     "data": {
      "image/png": "[encoded data removed]",
      "text/plain": [
       "<Figure size 432x288 with 1 Axes>"
      ]
     },
     "metadata": {
      "needs_background": "light"
     },
     "output_type": "display_data"
    }
   ],
   "source": [
    "qsvm.plot_graph(train_xy, train_label, test, label)"
   ]
  },
  {
   "cell_type": "markdown",
   "metadata": {},
   "source": [
    "`QSVM.plot_graph(x_test, y_pred)`でテストデータのみのグラフ描画。"
   ]
  },
  {
   "cell_type": "code",
   "execution_count": 6,
   "metadata": {},
   "outputs": [
    {
     "data": {
      "image/png": "[encoded data removed]",
      "text/plain": [
       "<Figure size 432x288 with 1 Axes>"
      ]
     },
     "metadata": {
      "needs_background": "light"
     },
     "output_type": "display_data"
    }
   ],
   "source": [
    "qsvm.plot_graph(x_test=test, y_pred=label)"
   ]
  },
  {
   "cell_type": "markdown",
   "metadata": {},
   "source": [
    "`QSVM.result`を表示させることで、各データ点を分類した際の計算結果を見ることができる。"
   ]
  },
  {
   "cell_type": "code",
   "execution_count": 7,
   "metadata": {
    "scrolled": true
   },
   "outputs": [
    {
     "name": "stdout",
     "output_type": "stream",
     "text": [
      "{'[3 3]': {'solution': array([1, 1, 0, 0, 0, 0, 1, 0]), 'result': {'01000011': 2, '10000010': 1, '10000011': 1, '11000000': 1, '11000001': 1, '11000010': 558, '11000011': 452, '11000110': 3, '11001010': 1, '11010010': 1, '11010011': 1, '11100010': 2}, 'J': array([[0.        , 0.4472136 , 0.19611614, 0.23570226, 0.2       ,\n",
      "        0.25      , 0.4472136 , 0.4472136 ],\n",
      "       [0.4472136 , 0.        , 0.2773501 , 0.18569534, 0.31622777,\n",
      "        0.18569534, 0.5       , 0.23570226],\n",
      "       [0.19611614, 0.2773501 , 0.        , 0.1118034 , 0.18569534,\n",
      "        0.17149859, 0.33333333, 0.16439899],\n",
      "       [0.23570226, 0.18569534, 0.1118034 , 0.        , 0.16439899,\n",
      "        0.13130643, 0.15617376, 0.18569534],\n",
      "       [0.2       , 0.31622777, 0.18569534, 0.16439899, 0.        ,\n",
      "        0.11704115, 0.19611614, 0.13867505],\n",
      "       [0.25      , 0.18569534, 0.17149859, 0.13130643, 0.11704115,\n",
      "        0.        , 0.2773501 , 0.4472136 ],\n",
      "       [0.4472136 , 0.5       , 0.33333333, 0.15617376, 0.19611614,\n",
      "        0.2773501 , 0.        , 0.31622777],\n",
      "       [0.4472136 , 0.23570226, 0.16439899, 0.18569534, 0.13867505,\n",
      "        0.4472136 , 0.31622777, 0.        ]]), 'hz': array([-1, -1,  1,  1,  1,  1, -1,  0]), 'hx': 1, 'shots': 1024, 'qasm': None}, '[7 4]': {'solution': array([1, 1, 0, 0, 0, 0, 1, 0]), 'result': {'11000000': 1, '11000010': 820, '11000011': 192, '11000110': 2, '11001010': 4, '11010010': 4, '11100010': 1}, 'J': array([[0.        , 0.4472136 , 0.19611614, 0.23570226, 0.2       ,\n",
      "        0.25      , 0.4472136 , 0.5       ],\n",
      "       [0.4472136 , 0.        , 0.2773501 , 0.18569534, 0.31622777,\n",
      "        0.18569534, 0.5       , 0.4472136 ],\n",
      "       [0.19611614, 0.2773501 , 0.        , 0.1118034 , 0.18569534,\n",
      "        0.17149859, 0.33333333, 0.17149859],\n",
      "       [0.23570226, 0.18569534, 0.1118034 , 0.        , 0.16439899,\n",
      "        0.13130643, 0.15617376, 0.31622777],\n",
      "       [0.2       , 0.31622777, 0.18569534, 0.16439899, 0.        ,\n",
      "        0.11704115, 0.19611614, 0.2773501 ],\n",
      "       [0.25      , 0.18569534, 0.17149859, 0.13130643, 0.11704115,\n",
      "        0.        , 0.2773501 , 0.16666667],\n",
      "       [0.4472136 , 0.5       , 0.33333333, 0.15617376, 0.19611614,\n",
      "        0.2773501 , 0.        , 0.2773501 ],\n",
      "       [0.5       , 0.4472136 , 0.17149859, 0.31622777, 0.2773501 ,\n",
      "        0.16666667, 0.2773501 , 0.        ]]), 'hz': array([-1, -1,  1,  1,  1,  1, -1,  0]), 'hx': 1, 'shots': 1024, 'qasm': None}, '[4 7]': {'solution': array([1, 1, 0, 0, 0, 0, 1, 0]), 'result': {'01000010': 1, '11000001': 8, '11000010': 985, '11000011': 11, '11000110': 2, '11001010': 4, '11010010': 5, '11100010': 8}, 'J': array([[0.        , 0.4472136 , 0.19611614, 0.23570226, 0.2       ,\n",
      "        0.25      , 0.4472136 , 0.31622777],\n",
      "       [0.4472136 , 0.        , 0.2773501 , 0.18569534, 0.31622777,\n",
      "        0.18569534, 0.5       , 0.4472136 ],\n",
      "       [0.19611614, 0.2773501 , 0.        , 0.1118034 , 0.18569534,\n",
      "        0.17149859, 0.33333333, 0.5       ],\n",
      "       [0.23570226, 0.18569534, 0.1118034 , 0.        , 0.16439899,\n",
      "        0.13130643, 0.15617376, 0.13867505],\n",
      "       [0.2       , 0.31622777, 0.18569534, 0.16439899, 0.        ,\n",
      "        0.11704115, 0.19611614, 0.2       ],\n",
      "       [0.25      , 0.18569534, 0.17149859, 0.13130643, 0.11704115,\n",
      "        0.        , 0.2773501 , 0.23570226],\n",
      "       [0.4472136 , 0.5       , 0.33333333, 0.15617376, 0.19611614,\n",
      "        0.2773501 , 0.        , 1.        ],\n",
      "       [0.31622777, 0.4472136 , 0.5       , 0.13867505, 0.2       ,\n",
      "        0.23570226, 1.        , 0.        ]]), 'hz': array([-1, -1,  1,  1,  1,  1, -1,  0]), 'hx': 1, 'shots': 1024, 'qasm': None}, '[5 1]': {'solution': array([1, 1, 0, 0, 0, 0, 1, 1]), 'result': {'01000010': 1, '01000011': 4, '10000011': 2, '11000000': 2, '11000001': 4, '11000010': 358, '11000011': 645, '11000110': 3, '11001010': 1, '11010010': 4}, 'J': array([[0.        , 0.4472136 , 0.19611614, 0.23570226, 0.2       ,\n",
      "        0.25      , 0.4472136 , 0.33333333],\n",
      "       [0.4472136 , 0.        , 0.2773501 , 0.18569534, 0.31622777,\n",
      "        0.18569534, 0.5       , 0.19611614],\n",
      "       [0.19611614, 0.2773501 , 0.        , 0.1118034 , 0.18569534,\n",
      "        0.17149859, 0.33333333, 0.12403473],\n",
      "       [0.23570226, 0.18569534, 0.1118034 , 0.        , 0.16439899,\n",
      "        0.13130643, 0.15617376, 0.33333333],\n",
      "       [0.2       , 0.31622777, 0.18569534, 0.16439899, 0.        ,\n",
      "        0.11704115, 0.19611614, 0.13867505],\n",
      "       [0.25      , 0.18569534, 0.17149859, 0.13130643, 0.11704115,\n",
      "        0.        , 0.2773501 , 0.2       ],\n",
      "       [0.4472136 , 0.5       , 0.33333333, 0.15617376, 0.19611614,\n",
      "        0.2773501 , 0.        , 0.19611614],\n",
      "       [0.33333333, 0.19611614, 0.12403473, 0.33333333, 0.13867505,\n",
      "        0.2       , 0.19611614, 0.        ]]), 'hz': array([-1, -1,  1,  1,  1,  1, -1,  0]), 'hx': 1, 'shots': 1024, 'qasm': None}, '[2 5]': {'solution': array([1, 1, 0, 0, 0, 0, 1, 1]), 'result': {'01000011': 5, '10000011': 6, '11000001': 10, '11000010': 223, '11000011': 777, '11000110': 1, '11010010': 1, '11100001': 1}, 'J': array([[0.        , 0.4472136 , 0.19611614, 0.23570226, 0.2       ,\n",
      "        0.25      , 0.4472136 , 0.31622777],\n",
      "       [0.4472136 , 0.        , 0.2773501 , 0.18569534, 0.31622777,\n",
      "        0.18569534, 0.5       , 0.24253563],\n",
      "       [0.19611614, 0.2773501 , 0.        , 0.1118034 , 0.18569534,\n",
      "        0.17149859, 0.33333333, 0.2236068 ],\n",
      "       [0.23570226, 0.18569534, 0.1118034 , 0.        , 0.16439899,\n",
      "        0.13130643, 0.15617376, 0.13867505],\n",
      "       [0.2       , 0.31622777, 0.18569534, 0.16439899, 0.        ,\n",
      "        0.11704115, 0.19611614, 0.13736056],\n",
      "       [0.25      , 0.18569534, 0.17149859, 0.13130643, 0.11704115,\n",
      "        0.        , 0.2773501 , 0.70710678],\n",
      "       [0.4472136 , 0.5       , 0.33333333, 0.15617376, 0.19611614,\n",
      "        0.2773501 , 0.        , 0.4472136 ],\n",
      "       [0.31622777, 0.24253563, 0.2236068 , 0.13867505, 0.13736056,\n",
      "        0.70710678, 0.4472136 , 0.        ]]), 'hz': array([-1, -1,  1,  1,  1,  1, -1,  0]), 'hx': 1, 'shots': 1024, 'qasm': None}, '[3 9]': {'solution': array([1, 1, 0, 0, 0, 0, 1, 1]), 'result': {'01000011': 2, '10000011': 4, '11000001': 6, '11000011': 1011, '11010011': 1}, 'J': array([[0.        , 0.4472136 , 0.19611614, 0.23570226, 0.2       ,\n",
      "        0.25      , 0.4472136 , 0.18569534],\n",
      "       [0.4472136 , 0.        , 0.2773501 , 0.18569534, 0.31622777,\n",
      "        0.18569534, 0.5       , 0.23570226],\n",
      "       [0.19611614, 0.2773501 , 0.        , 0.1118034 , 0.18569534,\n",
      "        0.17149859, 0.33333333, 1.        ],\n",
      "       [0.23570226, 0.18569534, 0.1118034 , 0.        , 0.16439899,\n",
      "        0.13130643, 0.15617376, 0.10599979],\n",
      "       [0.2       , 0.31622777, 0.18569534, 0.16439899, 0.        ,\n",
      "        0.11704115, 0.19611614, 0.15811388],\n",
      "       [0.25      , 0.18569534, 0.17149859, 0.13130643, 0.11704115,\n",
      "        0.        , 0.2773501 , 0.18569534],\n",
      "       [0.4472136 , 0.5       , 0.33333333, 0.15617376, 0.19611614,\n",
      "        0.2773501 , 0.        , 0.31622777],\n",
      "       [0.18569534, 0.23570226, 1.        , 0.10599979, 0.15811388,\n",
      "        0.18569534, 0.31622777, 0.        ]]), 'hz': array([-1, -1,  1,  1,  1,  1, -1,  0]), 'hx': 1, 'shots': 1024, 'qasm': None}, '[6 9]': {'solution': array([1, 1, 0, 0, 0, 0, 1, 1]), 'result': {'01000011': 1, '10000011': 1, '11000001': 7, '11000010': 163, '11000011': 844, '11000110': 1, '11000111': 1, '11001010': 2, '11010010': 1, '11100010': 3}, 'J': array([[0.        , 0.4472136 , 0.19611614, 0.23570226, 0.2       ,\n",
      "        0.25      , 0.4472136 , 0.19611614],\n",
      "       [0.4472136 , 0.        , 0.2773501 , 0.18569534, 0.31622777,\n",
      "        0.18569534, 0.5       , 0.33333333],\n",
      "       [0.19611614, 0.2773501 , 0.        , 0.1118034 , 0.18569534,\n",
      "        0.17149859, 0.33333333, 0.5       ],\n",
      "       [0.23570226, 0.18569534, 0.1118034 , 0.        , 0.16439899,\n",
      "        0.13130643, 0.15617376, 0.12126781],\n",
      "       [0.2       , 0.31622777, 0.18569534, 0.16439899, 0.        ,\n",
      "        0.11704115, 0.19611614, 0.2773501 ],\n",
      "       [0.25      , 0.18569534, 0.17149859, 0.13130643, 0.11704115,\n",
      "        0.        , 0.2773501 , 0.14142136],\n",
      "       [0.4472136 , 0.5       , 0.33333333, 0.15617376, 0.19611614,\n",
      "        0.2773501 , 0.        , 0.2773501 ],\n",
      "       [0.19611614, 0.33333333, 0.5       , 0.12126781, 0.2773501 ,\n",
      "        0.14142136, 0.2773501 , 0.        ]]), 'hz': array([-1, -1,  1,  1,  1,  1, -1,  0]), 'hx': 1, 'shots': 1024, 'qasm': None}, '[8 7]': {'solution': array([1, 1, 0, 0, 0, 0, 1, 1]), 'result': {'01000011': 4, '10000011': 7, '11000001': 8, '11000010': 4, '11000011': 999, '11001010': 1, '11010011': 1}, 'J': array([[0.        , 0.4472136 , 0.19611614, 0.23570226, 0.2       ,\n",
      "        0.25      , 0.4472136 , 0.23570226],\n",
      "       [0.4472136 , 0.        , 0.2773501 , 0.18569534, 0.31622777,\n",
      "        0.18569534, 0.5       , 0.4472136 ],\n",
      "       [0.19611614, 0.2773501 , 0.        , 0.1118034 , 0.18569534,\n",
      "        0.17149859, 0.33333333, 0.2236068 ],\n",
      "       [0.23570226, 0.18569534, 0.1118034 , 0.        , 0.16439899,\n",
      "        0.13130643, 0.15617376, 0.16666667],\n",
      "       [0.2       , 0.31622777, 0.18569534, 0.16439899, 0.        ,\n",
      "        0.11704115, 0.19611614, 1.        ],\n",
      "       [0.25      , 0.18569534, 0.17149859, 0.13130643, 0.11704115,\n",
      "        0.        , 0.2773501 , 0.13130643],\n",
      "       [0.4472136 , 0.5       , 0.33333333, 0.15617376, 0.19611614,\n",
      "        0.2773501 , 0.        , 0.24253563],\n",
      "       [0.23570226, 0.4472136 , 0.2236068 , 0.16666667, 1.        ,\n",
      "        0.13130643, 0.24253563, 0.        ]]), 'hz': array([-1, -1,  1,  1,  1,  1, -1,  0]), 'hx': 1, 'shots': 1024, 'qasm': None}, '[3 5]': {'solution': array([1, 1, 0, 0, 0, 0, 1, 0]), 'result': {'01000011': 1, '10000010': 2, '10000011': 1, '11000001': 2, '11000010': 941, '11000011': 64, '11000110': 4, '11001010': 3, '11010010': 2, '11010011': 1, '11100001': 1, '11100010': 2}, 'J': array([[0.        , 0.4472136 , 0.19611614, 0.23570226, 0.2       ,\n",
      "        0.25      , 0.4472136 , 0.4472136 ],\n",
      "       [0.4472136 , 0.        , 0.2773501 , 0.18569534, 0.31622777,\n",
      "        0.18569534, 0.5       , 0.31622777],\n",
      "       [0.19611614, 0.2773501 , 0.        , 0.1118034 , 0.18569534,\n",
      "        0.17149859, 0.33333333, 0.24253563],\n",
      "       [0.23570226, 0.18569534, 0.1118034 , 0.        , 0.16439899,\n",
      "        0.13130643, 0.15617376, 0.15617376],\n",
      "       [0.2       , 0.31622777, 0.18569534, 0.16439899, 0.        ,\n",
      "        0.11704115, 0.19611614, 0.15811388],\n",
      "       [0.25      , 0.18569534, 0.17149859, 0.13130643, 0.11704115,\n",
      "        0.        , 0.2773501 , 0.4472136 ],\n",
      "       [0.4472136 , 0.5       , 0.33333333, 0.15617376, 0.19611614,\n",
      "        0.2773501 , 0.        , 0.70710678],\n",
      "       [0.4472136 , 0.31622777, 0.24253563, 0.15617376, 0.15811388,\n",
      "        0.4472136 , 0.70710678, 0.        ]]), 'hz': array([-1, -1,  1,  1,  1,  1, -1,  0]), 'hx': 1, 'shots': 1024, 'qasm': None}, '[2 4]': {'solution': array([1, 1, 0, 0, 0, 0, 1, 1]), 'result': {'01000011': 4, '10000011': 3, '11000001': 5, '11000010': 10, '11000011': 998, '11001010': 1, '11001011': 2, '11100010': 1}, 'J': array([[0.        , 0.4472136 , 0.19611614, 0.23570226, 0.2       ,\n",
      "        0.25      , 0.4472136 , 0.33333333],\n",
      "       [0.4472136 , 0.        , 0.2773501 , 0.18569534, 0.31622777,\n",
      "        0.18569534, 0.5       , 0.2236068 ],\n",
      "       [0.19611614, 0.2773501 , 0.        , 0.1118034 , 0.18569534,\n",
      "        0.17149859, 0.33333333, 0.18569534],\n",
      "       [0.23570226, 0.18569534, 0.1118034 , 0.        , 0.16439899,\n",
      "        0.13130643, 0.15617376, 0.1490712 ],\n",
      "       [0.2       , 0.31622777, 0.18569534, 0.16439899, 0.        ,\n",
      "        0.11704115, 0.19611614, 0.13130643],\n",
      "       [0.25      , 0.18569534, 0.17149859, 0.13130643, 0.11704115,\n",
      "        0.        , 0.2773501 , 1.        ],\n",
      "       [0.4472136 , 0.5       , 0.33333333, 0.15617376, 0.19611614,\n",
      "        0.2773501 , 0.        , 0.35355339],\n",
      "       [0.33333333, 0.2236068 , 0.18569534, 0.1490712 , 0.13130643,\n",
      "        1.        , 0.35355339, 0.        ]]), 'hz': array([-1, -1,  1,  1,  1,  1, -1,  0]), 'hx': 1, 'shots': 1024, 'qasm': None}, '[9 9]': {'solution': array([1, 1, 0, 0, 0, 0, 1, 1]), 'result': {'01000011': 5, '10000010': 1, '10000011': 5, '11000001': 9, '11000010': 66, '11000011': 935, '11000110': 1, '11001010': 1, '11100011': 1}, 'J': array([[0.        , 0.4472136 , 0.19611614, 0.23570226, 0.2       ,\n",
      "        0.25      , 0.4472136 , 0.15617376],\n",
      "       [0.4472136 , 0.        , 0.2773501 , 0.18569534, 0.31622777,\n",
      "        0.18569534, 0.5       , 0.23570226],\n",
      "       [0.19611614, 0.2773501 , 0.        , 0.1118034 , 0.18569534,\n",
      "        0.17149859, 0.33333333, 0.2       ],\n",
      "       [0.23570226, 0.18569534, 0.1118034 , 0.        , 0.16439899,\n",
      "        0.13130643, 0.15617376, 0.12403473],\n",
      "       [0.2       , 0.31622777, 0.18569534, 0.16439899, 0.        ,\n",
      "        0.11704115, 0.19611614, 0.5       ],\n",
      "       [0.25      , 0.18569534, 0.17149859, 0.13130643, 0.11704115,\n",
      "        0.        , 0.2773501 , 0.10599979],\n",
      "       [0.4472136 , 0.5       , 0.33333333, 0.15617376, 0.19611614,\n",
      "        0.2773501 , 0.        , 0.17149859],\n",
      "       [0.15617376, 0.23570226, 0.2       , 0.12403473, 0.5       ,\n",
      "        0.10599979, 0.17149859, 0.        ]]), 'hz': array([-1, -1,  1,  1,  1,  1, -1,  0]), 'hx': 1, 'shots': 1024, 'qasm': None}, '[4 3]': {'solution': array([1, 1, 0, 0, 0, 0, 1, 0]), 'result': {'01000011': 2, '10000011': 1, '10001010': 1, '11000000': 1, '11000001': 1, '11000010': 942, '11000011': 63, '11000110': 3, '11001010': 4, '11010010': 5, '11100010': 1}, 'J': array([[0.        , 0.4472136 , 0.19611614, 0.23570226, 0.2       ,\n",
      "        0.25      , 0.4472136 , 0.70710678],\n",
      "       [0.4472136 , 0.        , 0.2773501 , 0.18569534, 0.31622777,\n",
      "        0.18569534, 0.5       , 0.2773501 ],\n",
      "       [0.19611614, 0.2773501 , 0.        , 0.1118034 , 0.18569534,\n",
      "        0.17149859, 0.33333333, 0.16666667],\n",
      "       [0.23570226, 0.18569534, 0.1118034 , 0.        , 0.16439899,\n",
      "        0.13130643, 0.15617376, 0.2236068 ],\n",
      "       [0.2       , 0.31622777, 0.18569534, 0.16439899, 0.        ,\n",
      "        0.11704115, 0.19611614, 0.15617376],\n",
      "       [0.25      , 0.18569534, 0.17149859, 0.13130643, 0.11704115,\n",
      "        0.        , 0.2773501 , 0.31622777],\n",
      "       [0.4472136 , 0.5       , 0.33333333, 0.15617376, 0.19611614,\n",
      "        0.2773501 , 0.        , 0.33333333],\n",
      "       [0.70710678, 0.2773501 , 0.16666667, 0.2236068 , 0.15617376,\n",
      "        0.31622777, 0.33333333, 0.        ]]), 'hz': array([-1, -1,  1,  1,  1,  1, -1,  0]), 'hx': 1, 'shots': 1024, 'qasm': None}, '[6 4]': {'solution': array([1, 1, 0, 0, 0, 0, 1, 0]), 'result': {'01000011': 5, '11000010': 995, '11000011': 14, '11000110': 1, '11001010': 4, '11010010': 3, '11100010': 2}, 'J': array([[0.        , 0.4472136 , 0.19611614, 0.23570226, 0.2       ,\n",
      "        0.25      , 0.4472136 , 1.        ],\n",
      "       [0.4472136 , 0.        , 0.2773501 , 0.18569534, 0.31622777,\n",
      "        0.18569534, 0.5       , 0.5       ],\n",
      "       [0.19611614, 0.2773501 , 0.        , 0.1118034 , 0.18569534,\n",
      "        0.17149859, 0.33333333, 0.18569534],\n",
      "       [0.23570226, 0.18569534, 0.1118034 , 0.        , 0.16439899,\n",
      "        0.13130643, 0.15617376, 0.2773501 ],\n",
      "       [0.2       , 0.31622777, 0.18569534, 0.16439899, 0.        ,\n",
      "        0.11704115, 0.19611614, 0.23570226],\n",
      "       [0.25      , 0.18569534, 0.17149859, 0.13130643, 0.11704115,\n",
      "        0.        , 0.2773501 , 0.2       ],\n",
      "       [0.4472136 , 0.5       , 0.33333333, 0.15617376, 0.19611614,\n",
      "        0.2773501 , 0.        , 0.35355339],\n",
      "       [1.        , 0.5       , 0.18569534, 0.2773501 , 0.23570226,\n",
      "        0.2       , 0.35355339, 0.        ]]), 'hz': array([-1, -1,  1,  1,  1,  1, -1,  0]), 'hx': 1, 'shots': 1024, 'qasm': None}, '[4 4]': {'solution': array([1, 1, 0, 0, 0, 0, 1, 0]), 'result': {'01000011': 7, '01010011': 1, '10000010': 1, '11000000': 1, '11000001': 1, '11000010': 996, '11000011': 5, '11000110': 5, '11001010': 3, '11010010': 3, '11100010': 1}, 'J': array([[0.        , 0.4472136 , 0.19611614, 0.23570226, 0.2       ,\n",
      "        0.25      , 0.4472136 , 1.        ],\n",
      "       [0.4472136 , 0.        , 0.2773501 , 0.18569534, 0.31622777,\n",
      "        0.18569534, 0.5       , 0.35355339],\n",
      "       [0.19611614, 0.2773501 , 0.        , 0.1118034 , 0.18569534,\n",
      "        0.17149859, 0.33333333, 0.2       ],\n",
      "       [0.23570226, 0.18569534, 0.1118034 , 0.        , 0.16439899,\n",
      "        0.13130643, 0.15617376, 0.2       ],\n",
      "       [0.2       , 0.31622777, 0.18569534, 0.16439899, 0.        ,\n",
      "        0.11704115, 0.19611614, 0.17149859],\n",
      "       [0.25      , 0.18569534, 0.17149859, 0.13130643, 0.11704115,\n",
      "        0.        , 0.2773501 , 0.33333333],\n",
      "       [0.4472136 , 0.5       , 0.33333333, 0.15617376, 0.19611614,\n",
      "        0.2773501 , 0.        , 0.5       ],\n",
      "       [1.        , 0.35355339, 0.2       , 0.2       , 0.17149859,\n",
      "        0.33333333, 0.5       , 0.        ]]), 'hz': array([-1, -1,  1,  1,  1,  1, -1,  0]), 'hx': 1, 'shots': 1024, 'qasm': None}}\n"
     ]
    }
   ],
   "source": [
    "print(qsvm.result)"
   ]
  },
  {
   "cell_type": "markdown",
   "metadata": {},
   "source": [
    "高次元の訓練データおよびテストデータでもデータ分類可能。"
   ]
  },
  {
   "cell_type": "code",
   "execution_count": 8,
   "metadata": {},
   "outputs": [
    {
     "name": "stdout",
     "output_type": "stream",
     "text": [
      "[1, -1]\n"
     ]
    }
   ],
   "source": [
    "train_xy = np.array([[5, 4, 7, 4], [6, 6, 2, 9], [4, 9, 1 ,2], [8, 1, 6, 7]])\n",
    "train_label = np.array([1, 1, -1, -1])\n",
    "\n",
    "qsvm = QSVM()\n",
    "qsvm.fit(train_xy, train_label)\n",
    "\n",
    "test = np.array([[3, 2, 1, 6], [9, 4, 5, 6]])\n",
    "label = qsvm.predict(test)\n",
    "print(label)"
   ]
  },
  {
   "cell_type": "markdown",
   "metadata": {},
   "source": [
    "***"
   ]
  },
  {
   "cell_type": "markdown",
   "metadata": {},
   "source": [
    "量子回路を描画する場合は、始めに`QSVM(set_qasm=True)`と設定することで、`QSVM.result`にqasmコードが追加される。"
   ]
  },
  {
   "cell_type": "code",
   "execution_count": null,
   "metadata": {},
   "outputs": [],
   "source": []
  }
 ],
 "metadata": {
  "kernelspec": {
   "display_name": "Python 3",
   "language": "python",
   "name": "python3"
  },
  "language_info": {
   "codemirror_mode": {
    "name": "ipython",
    "version": 3
   },
   "file_extension": ".py",
   "mimetype": "text/x-python",
   "name": "python",
   "nbconvert_exporter": "python",
   "pygments_lexer": "ipython3",
   "version": "3.6.8"
  }
 },
 "nbformat": 4,
 "nbformat_minor": 2
}
