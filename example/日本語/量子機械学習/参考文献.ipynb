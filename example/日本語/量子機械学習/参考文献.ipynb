{
 "cells": [
  {
   "cell_type": "markdown",
   "metadata": {},
   "source": [
    "# 参考文献"
   ]
  },
  {
   "cell_type": "markdown",
   "metadata": {},
   "source": [
    "- 中山茂 (2018) 「Python クラウド量子計算 QISKITバイブル」 NextPublishing Authors Press"
   ]
  },
  {
   "cell_type": "markdown",
   "metadata": {},
   "source": [
    "- R. Barends, A. Shabani, John M. Martinis et al, \"Digitized adiabatic quantum computing with a superconducting circuit,\" Nature volume 534, pp. 222–226, 2016.\n",
    "https://www.nature.com/articles/nature17658"
   ]
  },
  {
   "cell_type": "markdown",
   "metadata": {},
   "source": [
    "- Vojtěch Havlíček, Antonio D. Córcoles, Kristan Temme et al, \"Supervised learning with quantum-enhanced feature spaces,\" Nature volume 567, pp. 209–212, 2019. https://www.nature.com/articles/s41586-019-0980-2"
   ]
  },
  {
   "cell_type": "code",
   "execution_count": null,
   "metadata": {},
   "outputs": [],
   "source": []
  }
 ],
 "metadata": {
  "kernelspec": {
   "display_name": "Python 3",
   "language": "python",
   "name": "python3"
  },
  "language_info": {
   "codemirror_mode": {
    "name": "ipython",
    "version": 3
   },
   "file_extension": ".py",
   "mimetype": "text/x-python",
   "name": "python",
   "nbconvert_exporter": "python",
   "pygments_lexer": "ipython3",
   "version": "3.6.8"
  }
 },
 "nbformat": 4,
 "nbformat_minor": 2
}
